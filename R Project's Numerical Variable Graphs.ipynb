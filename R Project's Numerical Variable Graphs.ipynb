{
 "cells": [
  {
   "cell_type": "markdown",
   "metadata": {},
   "source": [
    "# Numerical Variable Graphs"
   ]
  },
  {
   "cell_type": "markdown",
   "metadata": {},
   "source": [
    "## Business Objective\n",
    "\n",
    "-------------------------------------------------------------------------------------------------------------------------------\n",
    "\n",
    "To graphically analyze the difference in the statitical quantities of our data to have a broader perspective of things.\n",
    " \n",
    "-------------------------------------------------------------------------------------------------------------------------------\n"
   ]
  },
  {
   "cell_type": "code",
   "execution_count": 1,
   "metadata": {},
   "outputs": [],
   "source": [
    "#importing libraries\n",
    "import os\n",
    "import pandas as pd\n",
    "import numpy as np\n",
    "import seaborn as sns\n",
    "import xlrd\n",
    "import matplotlib.pyplot as plt\n",
    "import time\n",
    "import statistics"
   ]
  },
  {
   "cell_type": "code",
   "execution_count": 2,
   "metadata": {},
   "outputs": [],
   "source": [
    "#Changing the directory using os package, to the place where the excel sheet exists\n",
    "os.chdir('C:/Users/Viswa/Desktop/R Project')\n",
    "\n",
    "#Name of the excel sheet\n",
    "excel_file='Project_Part_2.xlsx'\n",
    "\n",
    "#Reading excel sheet into sales.\n",
    "comp=pd.read_excel(excel_file)"
   ]
  },
  {
   "cell_type": "code",
   "execution_count": 3,
   "metadata": {},
   "outputs": [
    {
     "data": {
      "text/html": [
       "<div>\n",
       "<style scoped>\n",
       "    .dataframe tbody tr th:only-of-type {\n",
       "        vertical-align: middle;\n",
       "    }\n",
       "\n",
       "    .dataframe tbody tr th {\n",
       "        vertical-align: top;\n",
       "    }\n",
       "\n",
       "    .dataframe thead th {\n",
       "        text-align: right;\n",
       "    }\n",
       "</style>\n",
       "<table border=\"1\" class=\"dataframe\">\n",
       "  <thead>\n",
       "    <tr style=\"text-align: right;\">\n",
       "      <th></th>\n",
       "      <th>global_rank</th>\n",
       "      <th>sales_billion</th>\n",
       "      <th>profits_billion</th>\n",
       "      <th>assets_billion</th>\n",
       "      <th>market_value_billion</th>\n",
       "    </tr>\n",
       "  </thead>\n",
       "  <tbody>\n",
       "    <tr>\n",
       "      <th>count</th>\n",
       "      <td>135.000000</td>\n",
       "      <td>135.000000</td>\n",
       "      <td>135.000000</td>\n",
       "      <td>135.000000</td>\n",
       "      <td>135.000000</td>\n",
       "    </tr>\n",
       "    <tr>\n",
       "      <th>mean</th>\n",
       "      <td>972.792593</td>\n",
       "      <td>22.403704</td>\n",
       "      <td>2.040000</td>\n",
       "      <td>127.399259</td>\n",
       "      <td>20.465185</td>\n",
       "    </tr>\n",
       "    <tr>\n",
       "      <th>std</th>\n",
       "      <td>554.339800</td>\n",
       "      <td>47.836466</td>\n",
       "      <td>5.253573</td>\n",
       "      <td>405.949323</td>\n",
       "      <td>39.244472</td>\n",
       "    </tr>\n",
       "    <tr>\n",
       "      <th>min</th>\n",
       "      <td>1.000000</td>\n",
       "      <td>0.800000</td>\n",
       "      <td>-1.500000</td>\n",
       "      <td>1.300000</td>\n",
       "      <td>0.200000</td>\n",
       "    </tr>\n",
       "    <tr>\n",
       "      <th>25%</th>\n",
       "      <td>549.500000</td>\n",
       "      <td>4.900000</td>\n",
       "      <td>0.400000</td>\n",
       "      <td>8.350000</td>\n",
       "      <td>5.400000</td>\n",
       "    </tr>\n",
       "    <tr>\n",
       "      <th>50%</th>\n",
       "      <td>991.000000</td>\n",
       "      <td>10.300000</td>\n",
       "      <td>0.600000</td>\n",
       "      <td>15.500000</td>\n",
       "      <td>8.700000</td>\n",
       "    </tr>\n",
       "    <tr>\n",
       "      <th>75%</th>\n",
       "      <td>1439.500000</td>\n",
       "      <td>18.000000</td>\n",
       "      <td>1.300000</td>\n",
       "      <td>41.250000</td>\n",
       "      <td>14.800000</td>\n",
       "    </tr>\n",
       "    <tr>\n",
       "      <th>max</th>\n",
       "      <td>1948.000000</td>\n",
       "      <td>411.700000</td>\n",
       "      <td>37.800000</td>\n",
       "      <td>2813.500000</td>\n",
       "      <td>261.200000</td>\n",
       "    </tr>\n",
       "  </tbody>\n",
       "</table>\n",
       "</div>"
      ],
      "text/plain": [
       "       global_rank  sales_billion  profits_billion  assets_billion  \\\n",
       "count   135.000000     135.000000       135.000000      135.000000   \n",
       "mean    972.792593      22.403704         2.040000      127.399259   \n",
       "std     554.339800      47.836466         5.253573      405.949323   \n",
       "min       1.000000       0.800000        -1.500000        1.300000   \n",
       "25%     549.500000       4.900000         0.400000        8.350000   \n",
       "50%     991.000000      10.300000         0.600000       15.500000   \n",
       "75%    1439.500000      18.000000         1.300000       41.250000   \n",
       "max    1948.000000     411.700000        37.800000     2813.500000   \n",
       "\n",
       "       market_value_billion  \n",
       "count            135.000000  \n",
       "mean              20.465185  \n",
       "std               39.244472  \n",
       "min                0.200000  \n",
       "25%                5.400000  \n",
       "50%                8.700000  \n",
       "75%               14.800000  \n",
       "max              261.200000  "
      ]
     },
     "execution_count": 3,
     "metadata": {},
     "output_type": "execute_result"
    }
   ],
   "source": [
    "comp.describe()"
   ]
  },
  {
   "cell_type": "code",
   "execution_count": 4,
   "metadata": {},
   "outputs": [],
   "source": [
    "d=comp.describe()\n",
    "d=d[1:-1]"
   ]
  },
  {
   "cell_type": "markdown",
   "metadata": {},
   "source": [
    "## Conclusion"
   ]
  },
  {
   "cell_type": "code",
   "execution_count": 5,
   "metadata": {},
   "outputs": [
    {
     "data": {
      "text/html": [
       "<div>\n",
       "<style scoped>\n",
       "    .dataframe tbody tr th:only-of-type {\n",
       "        vertical-align: middle;\n",
       "    }\n",
       "\n",
       "    .dataframe tbody tr th {\n",
       "        vertical-align: top;\n",
       "    }\n",
       "\n",
       "    .dataframe thead th {\n",
       "        text-align: right;\n",
       "    }\n",
       "</style>\n",
       "<table border=\"1\" class=\"dataframe\">\n",
       "  <thead>\n",
       "    <tr style=\"text-align: right;\">\n",
       "      <th></th>\n",
       "      <th>global_rank</th>\n",
       "      <th>sales_billion</th>\n",
       "      <th>profits_billion</th>\n",
       "      <th>assets_billion</th>\n",
       "      <th>market_value_billion</th>\n",
       "    </tr>\n",
       "  </thead>\n",
       "  <tbody>\n",
       "    <tr>\n",
       "      <th>mean</th>\n",
       "      <td>972.792593</td>\n",
       "      <td>22.403704</td>\n",
       "      <td>2.040000</td>\n",
       "      <td>127.399259</td>\n",
       "      <td>20.465185</td>\n",
       "    </tr>\n",
       "    <tr>\n",
       "      <th>std</th>\n",
       "      <td>554.339800</td>\n",
       "      <td>47.836466</td>\n",
       "      <td>5.253573</td>\n",
       "      <td>405.949323</td>\n",
       "      <td>39.244472</td>\n",
       "    </tr>\n",
       "    <tr>\n",
       "      <th>min</th>\n",
       "      <td>1.000000</td>\n",
       "      <td>0.800000</td>\n",
       "      <td>-1.500000</td>\n",
       "      <td>1.300000</td>\n",
       "      <td>0.200000</td>\n",
       "    </tr>\n",
       "    <tr>\n",
       "      <th>25%</th>\n",
       "      <td>549.500000</td>\n",
       "      <td>4.900000</td>\n",
       "      <td>0.400000</td>\n",
       "      <td>8.350000</td>\n",
       "      <td>5.400000</td>\n",
       "    </tr>\n",
       "    <tr>\n",
       "      <th>50%</th>\n",
       "      <td>991.000000</td>\n",
       "      <td>10.300000</td>\n",
       "      <td>0.600000</td>\n",
       "      <td>15.500000</td>\n",
       "      <td>8.700000</td>\n",
       "    </tr>\n",
       "    <tr>\n",
       "      <th>75%</th>\n",
       "      <td>1439.500000</td>\n",
       "      <td>18.000000</td>\n",
       "      <td>1.300000</td>\n",
       "      <td>41.250000</td>\n",
       "      <td>14.800000</td>\n",
       "    </tr>\n",
       "  </tbody>\n",
       "</table>\n",
       "</div>"
      ],
      "text/plain": [
       "      global_rank  sales_billion  profits_billion  assets_billion  \\\n",
       "mean   972.792593      22.403704         2.040000      127.399259   \n",
       "std    554.339800      47.836466         5.253573      405.949323   \n",
       "min      1.000000       0.800000        -1.500000        1.300000   \n",
       "25%    549.500000       4.900000         0.400000        8.350000   \n",
       "50%    991.000000      10.300000         0.600000       15.500000   \n",
       "75%   1439.500000      18.000000         1.300000       41.250000   \n",
       "\n",
       "      market_value_billion  \n",
       "mean             20.465185  \n",
       "std              39.244472  \n",
       "min               0.200000  \n",
       "25%               5.400000  \n",
       "50%               8.700000  \n",
       "75%              14.800000  "
      ]
     },
     "execution_count": 5,
     "metadata": {},
     "output_type": "execute_result"
    }
   ],
   "source": [
    "d"
   ]
  },
  {
   "cell_type": "markdown",
   "metadata": {},
   "source": [
    "These variables will be analysed for each column through a graph."
   ]
  }
 ],
 "metadata": {
  "kernelspec": {
   "display_name": "Python 3",
   "language": "python",
   "name": "python3"
  },
  "language_info": {
   "codemirror_mode": {
    "name": "ipython",
    "version": 3
   },
   "file_extension": ".py",
   "mimetype": "text/x-python",
   "name": "python",
   "nbconvert_exporter": "python",
   "pygments_lexer": "ipython3",
   "version": "3.7.3"
  }
 },
 "nbformat": 4,
 "nbformat_minor": 2
}
