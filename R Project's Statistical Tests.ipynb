{
 "cells": [
  {
   "cell_type": "markdown",
   "metadata": {},
   "source": [
    "# Statistical Tests in Python"
   ]
  },
  {
   "cell_type": "markdown",
   "metadata": {},
   "source": [
    "## Introduction: \n",
    "\n",
    "There exist a very large number of statistical tests that we could perform. \n",
    "However, in this jupyter notebook, we will restrict ourselves only to the following Statistical Tests.\n",
    "\n",
    "\n",
    "    - Paired T-test\n",
    "    - 2 Tailed P Test (through Pearson correlation)\n",
    "    - F-Test (through ANOVA)\n",
    "    - Wilcoxon sign-rank test\n",
    "\n",
    "\n",
    "A look into https://cyfar.org/types-statistical-tests can tell you exactly why I selected these specific tests. (Tailoring for data)\n",
    "\n",
    "For each Test there exist different types of Hypothesis\n",
    "\n",
    "These are\n",
    "    - Alternate Hypothesis\n",
    "    - Null Hypothesis\n"
   ]
  },
  {
   "cell_type": "markdown",
   "metadata": {},
   "source": [
    "-------------------------------------------------------------------------------------------------------------------------------\n",
    "\n",
    "## Business Objective\n",
    "    The statistical analysis of our data allows us to make mathematical inferences and conclusions that we can gain insight from.\n",
    "    \n",
    "-------------------------------------------------------------------------------------------------------------------------------"
   ]
  },
  {
   "cell_type": "code",
   "execution_count": 1,
   "metadata": {},
   "outputs": [],
   "source": [
    "#importing libraries\n",
    "import os\n",
    "import pandas as pd\n",
    "import numpy as np\n",
    "import seaborn as sns\n",
    "import xlrd\n",
    "import scipy\n",
    "import matplotlib.pyplot as plt\n",
    "import time\n",
    "import statistics\n",
    "from scipy.stats import wilcoxon\n",
    "from scipy import stats\n",
    "import statsmodels.api as sn\n",
    "from statsmodels.formula.api import ols"
   ]
  },
  {
   "cell_type": "code",
   "execution_count": 2,
   "metadata": {},
   "outputs": [],
   "source": [
    "#Changing the directory using os package, to the place where the excel sheet exists\n",
    "os.chdir('C:/Users/Viswa/Desktop/R Project')\n",
    "\n",
    "#Name of the excel sheet\n",
    "excel_file='Project_Part_2.xlsx'\n",
    "\n",
    "#Reading excel sheet into sales.\n",
    "comp=pd.read_excel(excel_file)"
   ]
  },
  {
   "cell_type": "markdown",
   "metadata": {},
   "source": [
    "## T-Statistic ( Got out of Paired T-Test )\n",
    "    -The Paired T-Test can be used to find the difference between two related variables.\n",
    "\n",
    "### About T:\n",
    "    - In statistics ,the 'T'-statistic is the ratio of the departure of the estimated value of a parameter from its hypothesized value to its standard error.\n",
    "    \n",
    "### Hypotheses:\n",
    "   \n",
    "   #### Default Alternate Hypothesis:\n",
    "       The alternative hypothesis assumes that the difference between the true mean (μ) and the comparison value is not zero.\n",
    "   #### Default Null Hypothesis:\n",
    "       The null hypothesis assumes that the difference between the true mean (μ) and the comparison value is equal to zero.\n",
    "    \n",
    "### Values of 'T' and their meanings:\n",
    "The greater the T, the more evidence you have that your team’s scores are significantly different from average. A smaller T value is evidence that your team’s score is not significantly different from average. "
   ]
  },
  {
   "cell_type": "code",
   "execution_count": 3,
   "metadata": {},
   "outputs": [
    {
     "data": {
      "text/plain": [
       "Ttest_relResult(statistic=-5.265275529919137, pvalue=5.426975561487554e-07)"
      ]
     },
     "execution_count": 3,
     "metadata": {},
     "output_type": "execute_result"
    }
   ],
   "source": [
    "stats.ttest_rel(comp['profits_billion'],comp['sales_billion'])"
   ]
  },
  {
   "cell_type": "code",
   "execution_count": 4,
   "metadata": {},
   "outputs": [
    {
     "data": {
      "text/plain": [
       "Ttest_relResult(statistic=3.137694597667933, pvalue=0.0020942019593703965)"
      ]
     },
     "execution_count": 4,
     "metadata": {},
     "output_type": "execute_result"
    }
   ],
   "source": [
    "stats.ttest_rel(comp['assets_billion'],comp['sales_billion'])"
   ]
  },
  {
   "cell_type": "code",
   "execution_count": 5,
   "metadata": {},
   "outputs": [
    {
     "data": {
      "text/plain": [
       "Ttest_relResult(statistic=-0.6781622755623272, pvalue=0.4988382091859547)"
      ]
     },
     "execution_count": 5,
     "metadata": {},
     "output_type": "execute_result"
    }
   ],
   "source": [
    "stats.ttest_rel(comp['market_value_billion'],comp['sales_billion'])"
   ]
  },
  {
   "cell_type": "code",
   "execution_count": 6,
   "metadata": {},
   "outputs": [
    {
     "data": {
      "text/plain": [
       "Ttest_relResult(statistic=-3.632425424497226, pvalue=0.0003987318757533985)"
      ]
     },
     "execution_count": 6,
     "metadata": {},
     "output_type": "execute_result"
    }
   ],
   "source": [
    "stats.ttest_rel(comp['profits_billion'],comp['assets_billion'])"
   ]
  },
  {
   "cell_type": "code",
   "execution_count": 7,
   "metadata": {},
   "outputs": [
    {
     "data": {
      "text/plain": [
       "Ttest_relResult(statistic=-3.3111473046824846, pvalue=0.0011942338606216614)"
      ]
     },
     "execution_count": 7,
     "metadata": {},
     "output_type": "execute_result"
    }
   ],
   "source": [
    "stats.ttest_rel(comp['market_value_billion'],comp['assets_billion'])"
   ]
  },
  {
   "cell_type": "code",
   "execution_count": 8,
   "metadata": {},
   "outputs": [
    {
     "data": {
      "text/plain": [
       "Ttest_relResult(statistic=6.213676558129145, pvalue=6.094543457412977e-09)"
      ]
     },
     "execution_count": 8,
     "metadata": {},
     "output_type": "execute_result"
    }
   ],
   "source": [
    "stats.ttest_rel(comp['market_value_billion'],comp['profits_billion'])"
   ]
  },
  {
   "cell_type": "markdown",
   "metadata": {},
   "source": [
    "According to the data that we have \n",
    "\n",
    "Degrees of Freedom - 133\n",
    "\n",
    "Significance Level - 5%\n",
    "\n",
    "Putting this information into the T-Statistic Table, we find that 1.97 is the critical value for Two-tailed-T test.\n",
    "\n",
    "Thus values of T are -1.97 and +1.97"
   ]
  },
  {
   "cell_type": "markdown",
   "metadata": {},
   "source": [
    "### Conclusion for T-Statistic\n",
    "    \n",
    "    For the comparision between market value and sales, and market value and profits, we see that the default null hypothesis is accepted. In other words, the difference between the means is zero.\n",
    "    \n",
    "    For the other comparisions, since the default alternate hypothesis is accepted, thus the difference between means is significant"
   ]
  },
  {
   "cell_type": "markdown",
   "metadata": {},
   "source": [
    "## 2-tailed P-Statistic ( Got out of Pearson's Correlation )\n",
    "    -Tests for the strength of the association between two continuous variables"
   ]
  },
  {
   "cell_type": "markdown",
   "metadata": {},
   "source": [
    "### About p:\n",
    "    -'p' is the level of marginal significance within a statistical hypothesis test representing the probability of the occurrence of a given event\n",
    "    \n",
    "### Hypotheses:\n",
    "   \n",
    "   #### Alternate Hypothesis: \n",
    "       Compared Variables have significant relationship.\n",
    "   #### Null Hypothesis:\n",
    "       Compared Varaibles have no significant relationship.\n",
    "    \n",
    "### Values of 'p' and their meanings:\n",
    "The most commonly used p-value is 0.05. If the investor concludes that the p-value is less than 0.05, there is strong evidence against the null hypothesis. As a result, we would reject the null hypothesis and accept the alternative hypothesis."
   ]
  },
  {
   "cell_type": "code",
   "execution_count": 9,
   "metadata": {},
   "outputs": [
    {
     "name": "stdout",
     "output_type": "stream",
     "text": [
      "p = 5.0039335971871726e-14 For profits and sales.\n"
     ]
    }
   ],
   "source": [
    "r,p=scipy.stats.pearsonr(comp['profits_billion'],comp['sales_billion'])\n",
    "print('p = '+str(p) +' For profits and sales.')"
   ]
  },
  {
   "cell_type": "code",
   "execution_count": 10,
   "metadata": {},
   "outputs": [
    {
     "name": "stdout",
     "output_type": "stream",
     "text": [
      "p = 7.969918017223284e-07 For assets and sales.\n"
     ]
    }
   ],
   "source": [
    "r,p=scipy.stats.pearsonr(comp['assets_billion'],comp['sales_billion'])\n",
    "print('p = '+str(p) +' For assets and sales.')"
   ]
  },
  {
   "cell_type": "code",
   "execution_count": 11,
   "metadata": {},
   "outputs": [
    {
     "name": "stdout",
     "output_type": "stream",
     "text": [
      "p = 2.2940713321851338e-23 For market_value and sales.\n"
     ]
    }
   ],
   "source": [
    "r,p=scipy.stats.pearsonr(comp['market_value_billion'],comp['sales_billion'])\n",
    "print('p = '+str(p) +' For market_value and sales.')"
   ]
  },
  {
   "cell_type": "code",
   "execution_count": 12,
   "metadata": {},
   "outputs": [
    {
     "name": "stdout",
     "output_type": "stream",
     "text": [
      "p = 7.022370745232362e-67 For profits and assets.\n"
     ]
    }
   ],
   "source": [
    "r,p=scipy.stats.pearsonr(comp['profits_billion'],comp['assets_billion'])\n",
    "print('p = '+str(p) +' For profits and assets.')"
   ]
  },
  {
   "cell_type": "code",
   "execution_count": 13,
   "metadata": {},
   "outputs": [
    {
     "name": "stdout",
     "output_type": "stream",
     "text": [
      "p = 1.795677382452173e-31 For market value and assets.\n"
     ]
    }
   ],
   "source": [
    "r,p=scipy.stats.pearsonr(comp['market_value_billion'],comp['assets_billion'])\n",
    "print('p = '+str(p) +' For market value and assets.')"
   ]
  },
  {
   "cell_type": "code",
   "execution_count": 14,
   "metadata": {},
   "outputs": [
    {
     "name": "stdout",
     "output_type": "stream",
     "text": [
      "p = 4.1385597517240784e-57 For market value and profits.\n"
     ]
    }
   ],
   "source": [
    "r,p=scipy.stats.pearsonr(comp['market_value_billion'],comp['profits_billion'])\n",
    "print('p = '+str(p) +' For market value and profits.')"
   ]
  },
  {
   "cell_type": "markdown",
   "metadata": {},
   "source": [
    "### Conclusion for P-Statistic\n",
    "\n",
    "Since all p values are below 0.05, the Null Hypothesis is rejected.\n",
    "\n",
    "Thus all variables have signifcant relationship with one another."
   ]
  },
  {
   "cell_type": "markdown",
   "metadata": {},
   "source": [
    "## F-Statistic ( Got out of ANOVA )\n",
    "    -ANOVA gives us the F-statistic, and several other variables."
   ]
  },
  {
   "cell_type": "markdown",
   "metadata": {},
   "source": [
    "### About F\n",
    "     F-statistic which is simply a ratio of two variances. Variances are a measure of dispersion, or how far the data are scattered from the mean. Larger values represent greater dispersion."
   ]
  },
  {
   "cell_type": "code",
   "execution_count": 15,
   "metadata": {},
   "outputs": [
    {
     "name": "stdout",
     "output_type": "stream",
     "text": [
      "                        sum_sq     df          F        PR(>F)\n",
      "profits_billion  106782.547336    1.0  71.062504  5.003934e-14\n",
      "Residual         199853.340812  133.0        NaN           NaN\n"
     ]
    }
   ],
   "source": [
    "mod=ols('sales_billion ~ profits_billion',data=comp).fit()\n",
    "anova_table=sn.stats.anova_lm(mod,typ=2)\n",
    "print(anova_table)"
   ]
  },
  {
   "cell_type": "code",
   "execution_count": 16,
   "metadata": {},
   "outputs": [
    {
     "name": "stdout",
     "output_type": "stream",
     "text": [
      "                       sum_sq     df          F        PR(>F)\n",
      "assets_billion   51502.797609    1.0  26.848231  7.969918e-07\n",
      "Residual        255133.090539  133.0        NaN           NaN\n"
     ]
    }
   ],
   "source": [
    "mod=ols('sales_billion ~ assets_billion',data=comp).fit()\n",
    "anova_table=sn.stats.anova_lm(mod,typ=2)\n",
    "print(anova_table)"
   ]
  },
  {
   "cell_type": "code",
   "execution_count": 17,
   "metadata": {},
   "outputs": [
    {
     "name": "stdout",
     "output_type": "stream",
     "text": [
      "                             sum_sq     df           F        PR(>F)\n",
      "market_value_billion  161562.732476    1.0  148.117295  2.294071e-23\n",
      "Residual              145073.155672  133.0         NaN           NaN\n"
     ]
    }
   ],
   "source": [
    "mod=ols('sales_billion ~ market_value_billion',data=comp).fit()\n",
    "anova_table=sn.stats.anova_lm(mod,typ=2)\n",
    "print(anova_table)"
   ]
  },
  {
   "cell_type": "code",
   "execution_count": 18,
   "metadata": {},
   "outputs": [
    {
     "name": "stdout",
     "output_type": "stream",
     "text": [
      "                           sum_sq     df           F        PR(>F)\n",
      "market_value_billion  3152.533056    1.0  768.106273  4.138560e-57\n",
      "Residual               545.870944  133.0         NaN           NaN\n"
     ]
    }
   ],
   "source": [
    "mod=ols('profits_billion ~ market_value_billion',data=comp).fit()\n",
    "anova_table=sn.stats.anova_lm(mod,typ=2)\n",
    "print(anova_table)"
   ]
  },
  {
   "cell_type": "code",
   "execution_count": 19,
   "metadata": {},
   "outputs": [
    {
     "name": "stdout",
     "output_type": "stream",
     "text": [
      "                     sum_sq     df            F        PR(>F)\n",
      "assets_billion  3309.069615    1.0  1130.406858  7.022371e-67\n",
      "Residual         389.334385  133.0          NaN           NaN\n"
     ]
    }
   ],
   "source": [
    "mod=ols('profits_billion ~ assets_billion',data=comp).fit()\n",
    "anova_table=sn.stats.anova_lm(mod,typ=2)\n",
    "print(anova_table)"
   ]
  },
  {
   "cell_type": "code",
   "execution_count": 20,
   "metadata": {},
   "outputs": [
    {
     "name": "stdout",
     "output_type": "stream",
     "text": [
      "                            sum_sq     df           F        PR(>F)\n",
      "market_value_billion  1.418042e+07    1.0  238.670441  1.795677e-31\n",
      "Residual              7.902092e+06  133.0         NaN           NaN\n"
     ]
    }
   ],
   "source": [
    "mod=ols('assets_billion ~ market_value_billion',data=comp).fit()\n",
    "anova_table=sn.stats.anova_lm(mod,typ=2)\n",
    "print(anova_table)"
   ]
  },
  {
   "cell_type": "markdown",
   "metadata": {},
   "source": [
    "### Conclusion for F statistic\n",
    "    \n",
    "   #### Dispersion (Based on F)\n",
    "   \n",
    "    The comparision between profits and assets is extremely dispersed in nature whereas a comparision between sales and assets is not that dispersed."
   ]
  },
  {
   "cell_type": "markdown",
   "metadata": {},
   "source": [
    "## Wilcoxon sign-rank test\n",
    "    -Tests for the difference between two related variables—takes into account the magnitude and direction of difference"
   ]
  },
  {
   "cell_type": "markdown",
   "metadata": {},
   "source": [
    "### About Wilcoxon statistic:\n",
    "    -If alternative is “two-sided”, the sum of the ranks of the differences above or below zero, whichever is smaller. Otherwise the sum of the ranks of the differences above zero.\n",
    "    \n",
    "### Hypotheses:\n",
    "   \n",
    "   #### Alternate Hypothesis: \n",
    "       Default is Two-Sided. If statistic is not zero, then Alternative Hypothesis is Two-Sided\n",
    "       Default is that two related paired samples do not come from the same distribution\n",
    "   #### Null Hypothesis:\n",
    "       Dependant on Alternative Hypothesis.\n",
    "       Defualt is that two related paired samples come from the same distribution\n",
    "    \n",
    "### Values of 'p' and their meanings:\n",
    "The most commonly used p-value is 0.05. If the investor concludes that the p-value is less than 0.05, there is strong evidence against the null hypothesis. As a result, we would reject the null hypothesis and accept the alternative hypothesis."
   ]
  },
  {
   "cell_type": "code",
   "execution_count": 21,
   "metadata": {},
   "outputs": [
    {
     "data": {
      "text/plain": [
       "(0.0, 6.703835947022963e-24)"
      ]
     },
     "execution_count": 21,
     "metadata": {},
     "output_type": "execute_result"
    }
   ],
   "source": [
    "w, p = wilcoxon(comp['market_value_billion'])\n",
    "w,p"
   ]
  },
  {
   "cell_type": "markdown",
   "metadata": {},
   "source": [
    "Alternate Hypothesis Accepted, Distribution is not Two-Sided"
   ]
  },
  {
   "cell_type": "code",
   "execution_count": 22,
   "metadata": {},
   "outputs": [
    {
     "data": {
      "text/plain": [
       "(438.0, 4.2413058183328205e-19)"
      ]
     },
     "execution_count": 22,
     "metadata": {},
     "output_type": "execute_result"
    }
   ],
   "source": [
    "w, p = wilcoxon(comp['profits_billion'])\n",
    "w,p"
   ]
  },
  {
   "cell_type": "markdown",
   "metadata": {},
   "source": [
    "Alternate Hypothesis Accepted, Distribution is Two-Sided"
   ]
  },
  {
   "cell_type": "code",
   "execution_count": 23,
   "metadata": {},
   "outputs": [
    {
     "data": {
      "text/plain": [
       "(0.0, 6.709229901634943e-24)"
      ]
     },
     "execution_count": 23,
     "metadata": {},
     "output_type": "execute_result"
    }
   ],
   "source": [
    "w, p = wilcoxon(comp['assets_billion'])\n",
    "w,p"
   ]
  },
  {
   "cell_type": "markdown",
   "metadata": {},
   "source": [
    "Alternate Hypothesis Accepted, Distribution is not Two-Sided"
   ]
  },
  {
   "cell_type": "code",
   "execution_count": 24,
   "metadata": {},
   "outputs": [
    {
     "data": {
      "text/plain": [
       "(0.0, 6.705702613281484e-24)"
      ]
     },
     "execution_count": 24,
     "metadata": {},
     "output_type": "execute_result"
    }
   ],
   "source": [
    "w, p = wilcoxon(comp['sales_billion'])\n",
    "w,p"
   ]
  },
  {
   "cell_type": "markdown",
   "metadata": {},
   "source": [
    "Alternate Hypothesis Accepted, Distribution is not Two-Sided"
   ]
  },
  {
   "cell_type": "markdown",
   "metadata": {},
   "source": [
    "### Conclusion for Wilcoxon sign-rank test\n",
    " "
   ]
  },
  {
   "cell_type": "markdown",
   "metadata": {},
   "source": [
    "For profits, we that the distribution is two-sided, i.e, loss is also a factor, whereas for the other variables, there don't exist such two sided values."
   ]
  },
  {
   "cell_type": "markdown",
   "metadata": {},
   "source": [
    "# Overall Conclusion\n",
    "\n",
    "    We have thus seen our data run through a many number of tests, through which we were able to gain knowledge and insight about our data."
   ]
  }
 ],
 "metadata": {
  "kernelspec": {
   "display_name": "Python 3",
   "language": "python",
   "name": "python3"
  },
  "language_info": {
   "codemirror_mode": {
    "name": "ipython",
    "version": 3
   },
   "file_extension": ".py",
   "mimetype": "text/x-python",
   "name": "python",
   "nbconvert_exporter": "python",
   "pygments_lexer": "ipython3",
   "version": "3.7.3"
  }
 },
 "nbformat": 4,
 "nbformat_minor": 2
}
