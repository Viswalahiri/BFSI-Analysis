{
 "cells": [
  {
   "cell_type": "markdown",
   "metadata": {},
   "source": [
    "# Application of ANOVA\n",
    "    -ANOVA stands for Analysis of variance, a statistical method in which the variation in a set of observations is divided into distinct components."
   ]
  },
  {
   "cell_type": "markdown",
   "metadata": {},
   "source": [
    "## Business Objective\n",
    "\n",
    "-------------------------------------------------------------------------------------------------------------------------------\n",
    "\n",
    "The one-way analysis of variance (ANOVA) is used to determine whether there are any statistically significant differences between the means of three or more independent (unrelated) groups.\n",
    " \n",
    "-------------------------------------------------------------------------------------------------------------------------------\n"
   ]
  },
  {
   "cell_type": "markdown",
   "metadata": {},
   "source": [
    "## Initialization"
   ]
  },
  {
   "cell_type": "code",
   "execution_count": 1,
   "metadata": {},
   "outputs": [],
   "source": [
    "#importing libraries\n",
    "import os\n",
    "import pandas as pd\n",
    "import numpy as np\n",
    "import seaborn as sns\n",
    "import xlrd\n",
    "import matplotlib.pyplot as plt\n",
    "import time\n",
    "import statistics\n",
    "import scipy\n",
    "from scipy import stats\n",
    "import statsmodels.api as sn\n",
    "from statsmodels.formula.api import ols"
   ]
  },
  {
   "cell_type": "code",
   "execution_count": 2,
   "metadata": {},
   "outputs": [],
   "source": [
    "#Changing the directory using os package, to the place where the excel sheet exists\n",
    "os.chdir('C:/Users/Viswa/Desktop/R Project')\n",
    "\n",
    "#Name of the excel sheet\n",
    "excel_file='Project_Part_2.xlsx'\n",
    "\n",
    "#Reading excel sheet into sales.\n",
    "comp=pd.read_excel(excel_file)"
   ]
  },
  {
   "cell_type": "markdown",
   "metadata": {},
   "source": [
    "## ANOVA Tables"
   ]
  },
  {
   "cell_type": "markdown",
   "metadata": {},
   "source": [
    " In each ANOVA table\n",
    " \n",
    "     sum_sq ~ Sum of Squares\n",
    " \n",
    "     df     ~ Degrees of Freedom\n",
    "         (For precise coefficient estimates and powerful hypothesis tests in regression)\n",
    "    \n",
    "     F      ~ F-Statistic\n",
    "         (F-Statistic is directly proportional to variablitiy)\n",
    "     \n",
    "     PR     ~ significance probability value associated with the F Value\n",
    "      "
   ]
  },
  {
   "cell_type": "markdown",
   "metadata": {},
   "source": [
    "The F-statistic is simply a ratio of two variances. \n",
    "Variances are a measure of dispersion, or how far the data are scattered from the mean. Larger values represent greater dispersion."
   ]
  },
  {
   "cell_type": "code",
   "execution_count": 3,
   "metadata": {},
   "outputs": [
    {
     "name": "stdout",
     "output_type": "stream",
     "text": [
      "                        sum_sq     df          F        PR(>F)\n",
      "profits_billion  106782.547336    1.0  71.062504  5.003934e-14\n",
      "Residual         199853.340812  133.0        NaN           NaN\n"
     ]
    }
   ],
   "source": [
    "mod=ols('sales_billion ~ profits_billion',data=comp).fit()\n",
    "anova_table=sn.stats.anova_lm(mod,typ=2)\n",
    "print(anova_table)"
   ]
  },
  {
   "cell_type": "markdown",
   "metadata": {},
   "source": [
    "Residual value is very high, thus the variations between profit and sales can't be explained properly by the model\n",
    "\n",
    "The lower the residual value the better."
   ]
  },
  {
   "cell_type": "code",
   "execution_count": 4,
   "metadata": {},
   "outputs": [
    {
     "name": "stdout",
     "output_type": "stream",
     "text": [
      "                       sum_sq     df          F        PR(>F)\n",
      "assets_billion   51502.797609    1.0  26.848231  7.969918e-07\n",
      "Residual        255133.090539  133.0        NaN           NaN\n"
     ]
    }
   ],
   "source": [
    "mod=ols('sales_billion ~ assets_billion',data=comp).fit()\n",
    "anova_table=sn.stats.anova_lm(mod,typ=2)\n",
    "print(anova_table)"
   ]
  },
  {
   "cell_type": "markdown",
   "metadata": {},
   "source": [
    "Residual value is very much higher than the Original Value, thus the variations between assets and sales can't be explained properly by the model\n",
    "\n",
    "The lower the residual value the better."
   ]
  },
  {
   "cell_type": "code",
   "execution_count": 5,
   "metadata": {},
   "outputs": [
    {
     "name": "stdout",
     "output_type": "stream",
     "text": [
      "                             sum_sq     df           F        PR(>F)\n",
      "market_value_billion  161562.732476    1.0  148.117295  2.294071e-23\n",
      "Residual              145073.155672  133.0         NaN           NaN\n"
     ]
    }
   ],
   "source": [
    "mod=ols('sales_billion ~ market_value_billion',data=comp).fit()\n",
    "anova_table=sn.stats.anova_lm(mod,typ=2)\n",
    "print(anova_table)"
   ]
  },
  {
   "cell_type": "markdown",
   "metadata": {},
   "source": [
    "Residual value is almost equal to original value, thus the variations between profit and sales can be explained. \n",
    "The lower the residual value the better."
   ]
  },
  {
   "cell_type": "code",
   "execution_count": 6,
   "metadata": {},
   "outputs": [
    {
     "name": "stdout",
     "output_type": "stream",
     "text": [
      "                           sum_sq     df           F        PR(>F)\n",
      "market_value_billion  3152.533056    1.0  768.106273  4.138560e-57\n",
      "Residual               545.870944  133.0         NaN           NaN\n"
     ]
    }
   ],
   "source": [
    "mod=ols('profits_billion ~ market_value_billion',data=comp).fit()\n",
    "anova_table=sn.stats.anova_lm(mod,typ=2)\n",
    "print(anova_table)"
   ]
  },
  {
   "cell_type": "markdown",
   "metadata": {},
   "source": [
    "Residual value is much lower than Original Value, thus the variations between Market Value and profits can be explained properly by the model.\n",
    "\n",
    "The lower the residual value the better."
   ]
  },
  {
   "cell_type": "code",
   "execution_count": 7,
   "metadata": {},
   "outputs": [
    {
     "name": "stdout",
     "output_type": "stream",
     "text": [
      "                     sum_sq     df            F        PR(>F)\n",
      "assets_billion  3309.069615    1.0  1130.406858  7.022371e-67\n",
      "Residual         389.334385  133.0          NaN           NaN\n"
     ]
    }
   ],
   "source": [
    "mod=ols('profits_billion ~ assets_billion',data=comp).fit()\n",
    "anova_table=sn.stats.anova_lm(mod,typ=2)\n",
    "print(anova_table)"
   ]
  },
  {
   "cell_type": "markdown",
   "metadata": {},
   "source": [
    "Residual value is much lower than Original Value, thus the variations between assets and profits can be explained properly by the model.\n",
    "\n",
    "The lower the residual value the better."
   ]
  },
  {
   "cell_type": "code",
   "execution_count": 8,
   "metadata": {},
   "outputs": [
    {
     "name": "stdout",
     "output_type": "stream",
     "text": [
      "                            sum_sq     df           F        PR(>F)\n",
      "market_value_billion  1.418042e+07    1.0  238.670441  1.795677e-31\n",
      "Residual              7.902092e+06  133.0         NaN           NaN\n"
     ]
    }
   ],
   "source": [
    "mod=ols('assets_billion ~ market_value_billion',data=comp).fit()\n",
    "anova_table=sn.stats.anova_lm(mod,typ=2)\n",
    "print(anova_table)"
   ]
  },
  {
   "cell_type": "markdown",
   "metadata": {},
   "source": [
    "Residual value is almost equal to Original Value, thus the variations between Market Value and Residue can be explained properly by the model.\n",
    "\n",
    "The lower the residual value the better."
   ]
  },
  {
   "cell_type": "markdown",
   "metadata": {},
   "source": [
    "## Conclusion\n",
    "    \n",
    "   #### Dispersion (Based on F)\n",
    "   \n",
    "    The comparision between profits and assets is extremely dispersed in nature whereas a comparision between sales and assets is not that dispersed.\n",
    "    \n",
    "   #### Predictability of Variation (Based on Residual)\n",
    "   \n",
    "    The comparision between profits and assets is thoroughly explainable, whereas a comparision between sales and assets is very difficult to explain."
   ]
  }
 ],
 "metadata": {
  "kernelspec": {
   "display_name": "Python 3",
   "language": "python",
   "name": "python3"
  },
  "language_info": {
   "codemirror_mode": {
    "name": "ipython",
    "version": 3
   },
   "file_extension": ".py",
   "mimetype": "text/x-python",
   "name": "python",
   "nbconvert_exporter": "python",
   "pygments_lexer": "ipython3",
   "version": "3.7.3"
  }
 },
 "nbformat": 4,
 "nbformat_minor": 2
}
